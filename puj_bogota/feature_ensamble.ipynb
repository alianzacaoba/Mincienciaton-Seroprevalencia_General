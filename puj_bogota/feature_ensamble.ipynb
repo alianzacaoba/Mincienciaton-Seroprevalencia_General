{
 "cells": [
  {
   "cell_type": "code",
   "execution_count": null,
   "metadata": {},
   "outputs": [],
   "source": [
    "import sys\n",
    "PATH = '/home/epuerta/Seroprevalence'\n",
    "DIR_DATA = '/home/epuerta/Seroprevalence/'\n",
    "sys.path.append(PATH) if PATH not in list(sys.path) else None\n",
    "import os\n",
    "import numpy as np\n",
    "import pandas as pd\n",
    "from scipy import interp\n",
    "import matplotlib.pyplot as plt\n",
    "from collections import Counter\n",
    "import seaborn as sns\n",
    "from sklearn.metrics import plot_roc_curve\n",
    "from imblearn.over_sampling import SMOTE\n",
    "from sklearn import model_selection, preprocessing\n",
    "from sklearn.preprocessing import MinMaxScaler\n",
    "from sklearn.preprocessing import StandardScaler\n",
    "from sklearn.model_selection import StratifiedShuffleSplit\n",
    "from sklearn.linear_model import Lasso\n",
    "from sklearn.ensemble import BaggingClassifier\n",
    "from sklearn.ensemble import ExtraTreesClassifier\n",
    "from sklearn.ensemble import AdaBoostClassifier\n",
    "from sklearn.ensemble import GradientBoostingClassifier\n",
    "from sklearn.ensemble import VotingClassifier\n",
    "from sklearn.ensemble import RandomForestClassifier\n",
    "from sklearn.pipeline import Pipeline\n",
    "from mlxtend.feature_selection import SequentialFeatureSelector\n",
    "from sklearn.feature_selection import SelectKBest\n",
    "from sklearn.feature_selection import chi2\n",
    "from sklearn.preprocessing import LabelEncoder\n",
    "from sklearn.preprocessing import StandardScaler\n",
    "from sklearn.metrics import classification_report,confusion_matrix\n",
    "from sklearn.model_selection import cross_val_score\n",
    "from sklearn.metrics import plot_confusion_matrix\n",
    "from sklearn.metrics import roc_auc_score\n",
    "from sklearn.metrics import roc_curve,auc\n",
    "from sklearn.metrics import r2_score"
   ]
  },
  {
   "cell_type": "code",
   "execution_count": 2,
   "metadata": {},
   "outputs": [],
   "source": [
    "data = pd.read_csv(DIR_DATA + 'MC_CB.csv')"
   ]
  },
  {
   "cell_type": "code",
   "execution_count": 3,
   "metadata": {},
   "outputs": [
    {
     "data": {
      "text/html": [
       "<div>\n",
       "<style scoped>\n",
       "    .dataframe tbody tr th:only-of-type {\n",
       "        vertical-align: middle;\n",
       "    }\n",
       "\n",
       "    .dataframe tbody tr th {\n",
       "        vertical-align: top;\n",
       "    }\n",
       "\n",
       "    .dataframe thead th {\n",
       "        text-align: right;\n",
       "    }\n",
       "</style>\n",
       "<table border=\"1\" class=\"dataframe\">\n",
       "  <thead>\n",
       "    <tr style=\"text-align: right;\">\n",
       "      <th></th>\n",
       "      <th>Edad</th>\n",
       "      <th>Sexo</th>\n",
       "      <th>raza</th>\n",
       "      <th>diagnosticado_covid</th>\n",
       "      <th>estado_civil</th>\n",
       "      <th>actividad_principal</th>\n",
       "      <th>contacto_sosp_covid</th>\n",
       "      <th>comparte_hab_per_cov</th>\n",
       "      <th>cuidador_persona_covid</th>\n",
       "      <th>familiar_fallecido_covid</th>\n",
       "      <th>...</th>\n",
       "      <th>dolor_garganta</th>\n",
       "      <th>fatiga_astenia</th>\n",
       "      <th>perdida_olfato</th>\n",
       "      <th>disminucion_gusto</th>\n",
       "      <th>comportamiento_pandemia</th>\n",
       "      <th>usa_tapabocas</th>\n",
       "      <th>tipo_tapabocas</th>\n",
       "      <th>cuantas_veces_limpia</th>\n",
       "      <th>veces_lava_manos</th>\n",
       "      <th>RESULTADO</th>\n",
       "    </tr>\n",
       "  </thead>\n",
       "  <tbody>\n",
       "    <tr>\n",
       "      <th>0</th>\n",
       "      <td>48.0</td>\n",
       "      <td>2.0</td>\n",
       "      <td>1.0</td>\n",
       "      <td>0.0</td>\n",
       "      <td>4.0</td>\n",
       "      <td>5.0</td>\n",
       "      <td>0.0</td>\n",
       "      <td>0.0</td>\n",
       "      <td>0.0</td>\n",
       "      <td>0.0</td>\n",
       "      <td>...</td>\n",
       "      <td>0.0</td>\n",
       "      <td>0.0</td>\n",
       "      <td>0.0</td>\n",
       "      <td>0.0</td>\n",
       "      <td>4.0</td>\n",
       "      <td>1.0</td>\n",
       "      <td>1.0</td>\n",
       "      <td>4.0</td>\n",
       "      <td>3.0</td>\n",
       "      <td>0.0</td>\n",
       "    </tr>\n",
       "    <tr>\n",
       "      <th>1</th>\n",
       "      <td>54.0</td>\n",
       "      <td>1.0</td>\n",
       "      <td>1.0</td>\n",
       "      <td>0.0</td>\n",
       "      <td>1.0</td>\n",
       "      <td>2.0</td>\n",
       "      <td>1.0</td>\n",
       "      <td>0.0</td>\n",
       "      <td>0.0</td>\n",
       "      <td>0.0</td>\n",
       "      <td>...</td>\n",
       "      <td>0.0</td>\n",
       "      <td>0.0</td>\n",
       "      <td>0.0</td>\n",
       "      <td>0.0</td>\n",
       "      <td>4.0</td>\n",
       "      <td>1.0</td>\n",
       "      <td>1.0</td>\n",
       "      <td>2.0</td>\n",
       "      <td>3.0</td>\n",
       "      <td>0.0</td>\n",
       "    </tr>\n",
       "    <tr>\n",
       "      <th>2</th>\n",
       "      <td>62.0</td>\n",
       "      <td>2.0</td>\n",
       "      <td>1.0</td>\n",
       "      <td>0.0</td>\n",
       "      <td>4.0</td>\n",
       "      <td>4.0</td>\n",
       "      <td>0.0</td>\n",
       "      <td>0.0</td>\n",
       "      <td>0.0</td>\n",
       "      <td>0.0</td>\n",
       "      <td>...</td>\n",
       "      <td>0.0</td>\n",
       "      <td>0.0</td>\n",
       "      <td>0.0</td>\n",
       "      <td>0.0</td>\n",
       "      <td>5.0</td>\n",
       "      <td>1.0</td>\n",
       "      <td>1.0</td>\n",
       "      <td>2.0</td>\n",
       "      <td>3.0</td>\n",
       "      <td>0.0</td>\n",
       "    </tr>\n",
       "    <tr>\n",
       "      <th>3</th>\n",
       "      <td>22.0</td>\n",
       "      <td>2.0</td>\n",
       "      <td>1.0</td>\n",
       "      <td>0.0</td>\n",
       "      <td>1.0</td>\n",
       "      <td>5.0</td>\n",
       "      <td>0.0</td>\n",
       "      <td>0.0</td>\n",
       "      <td>0.0</td>\n",
       "      <td>0.0</td>\n",
       "      <td>...</td>\n",
       "      <td>0.0</td>\n",
       "      <td>0.0</td>\n",
       "      <td>0.0</td>\n",
       "      <td>0.0</td>\n",
       "      <td>4.0</td>\n",
       "      <td>1.0</td>\n",
       "      <td>1.0</td>\n",
       "      <td>2.0</td>\n",
       "      <td>3.0</td>\n",
       "      <td>0.0</td>\n",
       "    </tr>\n",
       "    <tr>\n",
       "      <th>4</th>\n",
       "      <td>46.0</td>\n",
       "      <td>1.0</td>\n",
       "      <td>1.0</td>\n",
       "      <td>0.0</td>\n",
       "      <td>2.0</td>\n",
       "      <td>2.0</td>\n",
       "      <td>0.0</td>\n",
       "      <td>0.0</td>\n",
       "      <td>0.0</td>\n",
       "      <td>0.0</td>\n",
       "      <td>...</td>\n",
       "      <td>0.0</td>\n",
       "      <td>0.0</td>\n",
       "      <td>0.0</td>\n",
       "      <td>0.0</td>\n",
       "      <td>5.0</td>\n",
       "      <td>1.0</td>\n",
       "      <td>2.0</td>\n",
       "      <td>3.0</td>\n",
       "      <td>3.0</td>\n",
       "      <td>0.0</td>\n",
       "    </tr>\n",
       "  </tbody>\n",
       "</table>\n",
       "<p>5 rows × 40 columns</p>\n",
       "</div>"
      ],
      "text/plain": [
       "   Edad  Sexo  raza  diagnosticado_covid  estado_civil  actividad_principal  \\\n",
       "0  48.0   2.0   1.0                  0.0           4.0                  5.0   \n",
       "1  54.0   1.0   1.0                  0.0           1.0                  2.0   \n",
       "2  62.0   2.0   1.0                  0.0           4.0                  4.0   \n",
       "3  22.0   2.0   1.0                  0.0           1.0                  5.0   \n",
       "4  46.0   1.0   1.0                  0.0           2.0                  2.0   \n",
       "\n",
       "   contacto_sosp_covid  comparte_hab_per_cov  cuidador_persona_covid  \\\n",
       "0                  0.0                   0.0                     0.0   \n",
       "1                  1.0                   0.0                     0.0   \n",
       "2                  0.0                   0.0                     0.0   \n",
       "3                  0.0                   0.0                     0.0   \n",
       "4                  0.0                   0.0                     0.0   \n",
       "\n",
       "   familiar_fallecido_covid  ...  dolor_garganta  fatiga_astenia  \\\n",
       "0                       0.0  ...             0.0             0.0   \n",
       "1                       0.0  ...             0.0             0.0   \n",
       "2                       0.0  ...             0.0             0.0   \n",
       "3                       0.0  ...             0.0             0.0   \n",
       "4                       0.0  ...             0.0             0.0   \n",
       "\n",
       "   perdida_olfato  disminucion_gusto  comportamiento_pandemia  usa_tapabocas  \\\n",
       "0             0.0                0.0                      4.0            1.0   \n",
       "1             0.0                0.0                      4.0            1.0   \n",
       "2             0.0                0.0                      5.0            1.0   \n",
       "3             0.0                0.0                      4.0            1.0   \n",
       "4             0.0                0.0                      5.0            1.0   \n",
       "\n",
       "   tipo_tapabocas  cuantas_veces_limpia  veces_lava_manos  RESULTADO  \n",
       "0             1.0                   4.0               3.0        0.0  \n",
       "1             1.0                   2.0               3.0        0.0  \n",
       "2             1.0                   2.0               3.0        0.0  \n",
       "3             1.0                   2.0               3.0        0.0  \n",
       "4             2.0                   3.0               3.0        0.0  \n",
       "\n",
       "[5 rows x 40 columns]"
      ]
     },
     "execution_count": 3,
     "metadata": {},
     "output_type": "execute_result"
    }
   ],
   "source": [
    "data = data.replace(np.nan, 0)\n",
    "data.head()"
   ]
  },
  {
   "cell_type": "code",
   "execution_count": 4,
   "metadata": {},
   "outputs": [],
   "source": [
    "data = data.drop(['raza', 'diagnosticado_covid'], axis = 1)"
   ]
  },
  {
   "cell_type": "code",
   "execution_count": 5,
   "metadata": {},
   "outputs": [],
   "source": [
    "x = data.drop(['RESULTADO'], axis = 1)"
   ]
  },
  {
   "cell_type": "code",
   "execution_count": 6,
   "metadata": {},
   "outputs": [
    {
     "data": {
      "text/plain": [
       "37"
      ]
     },
     "execution_count": 6,
     "metadata": {},
     "output_type": "execute_result"
    }
   ],
   "source": [
    "col = list(x.columns)\n",
    "len(col)"
   ]
  },
  {
   "cell_type": "code",
   "execution_count": 7,
   "metadata": {},
   "outputs": [],
   "source": [
    "x = x.to_numpy()"
   ]
  },
  {
   "cell_type": "code",
   "execution_count": 8,
   "metadata": {},
   "outputs": [],
   "source": [
    "min_max_scaler = MinMaxScaler()\n",
    "x = min_max_scaler.fit_transform(x)"
   ]
  },
  {
   "cell_type": "code",
   "execution_count": 9,
   "metadata": {},
   "outputs": [
    {
     "data": {
      "text/plain": [
       "array([[0.6       , 1.        , 0.8       , ..., 0.33333333, 1.        ,\n",
       "        1.        ],\n",
       "       [0.675     , 0.5       , 0.2       , ..., 0.33333333, 0.5       ,\n",
       "        1.        ],\n",
       "       [0.775     , 1.        , 0.8       , ..., 0.33333333, 0.5       ,\n",
       "        1.        ],\n",
       "       ...,\n",
       "       [0.        , 0.        , 0.        , ..., 0.        , 0.        ,\n",
       "        0.        ],\n",
       "       [0.        , 0.        , 0.        , ..., 0.        , 0.        ,\n",
       "        0.        ],\n",
       "       [0.        , 0.        , 0.        , ..., 0.        , 0.        ,\n",
       "        0.        ]])"
      ]
     },
     "execution_count": 9,
     "metadata": {},
     "output_type": "execute_result"
    }
   ],
   "source": [
    "x"
   ]
  },
  {
   "cell_type": "code",
   "execution_count": 10,
   "metadata": {},
   "outputs": [],
   "source": [
    "y = data['RESULTADO'].to_numpy()"
   ]
  },
  {
   "cell_type": "code",
   "execution_count": 11,
   "metadata": {},
   "outputs": [
    {
     "data": {
      "text/plain": [
       "array([0., 0., 0., ..., 0., 0., 0.])"
      ]
     },
     "execution_count": 11,
     "metadata": {},
     "output_type": "execute_result"
    }
   ],
   "source": [
    "y"
   ]
  },
  {
   "cell_type": "code",
   "execution_count": 12,
   "metadata": {},
   "outputs": [
    {
     "name": "stdout",
     "output_type": "stream",
     "text": [
      "**Train: [(0.0, 1059), (1.0, 453)]\n"
     ]
    }
   ],
   "source": [
    "print('**Train:', sorted(Counter(y).items()))"
   ]
  },
  {
   "cell_type": "code",
   "execution_count": 13,
   "metadata": {},
   "outputs": [],
   "source": [
    "oversample = SMOTE()\n",
    "x, y = oversample.fit_resample(x, y)"
   ]
  },
  {
   "cell_type": "code",
   "execution_count": 14,
   "metadata": {},
   "outputs": [
    {
     "name": "stdout",
     "output_type": "stream",
     "text": [
      "**OverSampling Train: [(0.0, 1059), (1.0, 1059)]\n"
     ]
    }
   ],
   "source": [
    "print('**OverSampling Train:', sorted(Counter(y).items()))"
   ]
  },
  {
   "cell_type": "code",
   "execution_count": 15,
   "metadata": {
    "scrolled": true
   },
   "outputs": [
    {
     "data": {
      "text/plain": [
       "array([[0.6       , 1.        , 0.8       , ..., 0.33333333, 1.        ,\n",
       "        1.        ],\n",
       "       [0.675     , 0.5       , 0.2       , ..., 0.33333333, 0.5       ,\n",
       "        1.        ],\n",
       "       [0.775     , 1.        , 0.8       , ..., 0.33333333, 0.5       ,\n",
       "        1.        ],\n",
       "       ...,\n",
       "       [0.77018955, 1.        , 0.56067396, ..., 0.33333333, 0.89957877,\n",
       "        1.        ],\n",
       "       [0.82959203, 0.5       , 0.8794066 , ..., 0.46567766, 1.        ,\n",
       "        1.        ],\n",
       "       [0.87469056, 1.        , 0.99504891, ..., 0.66666667, 0.75618887,\n",
       "        0.67491849]])"
      ]
     },
     "execution_count": 15,
     "metadata": {},
     "output_type": "execute_result"
    }
   ],
   "source": [
    "x"
   ]
  },
  {
   "cell_type": "code",
   "execution_count": 16,
   "metadata": {},
   "outputs": [],
   "source": [
    "x_feature = SelectKBest(chi2, k=4).fit_transform(x, y)"
   ]
  },
  {
   "cell_type": "code",
   "execution_count": 17,
   "metadata": {},
   "outputs": [
    {
     "data": {
      "text/plain": [
       "array([[0.        , 0.        , 0.        , 0.        ],\n",
       "       [1.        , 0.        , 0.        , 0.        ],\n",
       "       [0.        , 0.        , 0.        , 0.        ],\n",
       "       ...,\n",
       "       [1.        , 0.        , 0.        , 1.        ],\n",
       "       [0.        , 0.        , 0.        , 0.        ],\n",
       "       [0.        , 0.        , 0.        , 0.02475546]])"
      ]
     },
     "execution_count": 17,
     "metadata": {},
     "output_type": "execute_result"
    }
   ],
   "source": [
    "x_feature"
   ]
  },
  {
   "cell_type": "code",
   "execution_count": 18,
   "metadata": {},
   "outputs": [],
   "source": [
    "kfold = StratifiedShuffleSplit(n_splits=10, test_size=0.30, random_state=101)\n",
    "# num_estimators = [20, 40, 60, 80, 100]\n",
    "num_estimators = [20]"
   ]
  },
  {
   "cell_type": "code",
   "execution_count": 19,
   "metadata": {},
   "outputs": [],
   "source": [
    "ensamble = {'Bagging': BaggingClassifier(n_estimators=20, random_state=42),\n",
    "            'AdaBoost': AdaBoostClassifier(n_estimators=20, random_state=7),\n",
    "            'GradientBoosting': GradientBoostingClassifier(n_estimators=20, random_state=7)}"
   ]
  },
  {
   "cell_type": "markdown",
   "metadata": {},
   "source": [
    "# Without feature selection"
   ]
  },
  {
   "cell_type": "code",
   "execution_count": 20,
   "metadata": {},
   "outputs": [
    {
     "name": "stdout",
     "output_type": "stream",
     "text": [
      "----------------------------------------\n",
      "Results for Bagging classifier\n",
      "----------------------------------------\n",
      "AUC: 0.85 (+/- 0.02)\n",
      "Mean Accuracy: 0.767 (+/- 0.009)\n",
      "Mean Recall: 0.728 (+/- 0.017)\n",
      "Mean F1: 0.758 (+/- 0.009)\n",
      "----------------------------------------\n",
      "Results for AdaBoost classifier\n",
      "----------------------------------------\n",
      "AUC: 0.81 (+/- 0.03)\n",
      "Mean Accuracy: 0.713 (+/- 0.018)\n",
      "Mean Recall: 0.770 (+/- 0.023)\n",
      "Mean F1: 0.729 (+/- 0.012)\n",
      "----------------------------------------\n",
      "Results for GradientBoosting classifier\n",
      "----------------------------------------\n",
      "AUC: 0.82 (+/- 0.02)\n",
      "Mean Accuracy: 0.726 (+/- 0.019)\n",
      "Mean Recall: 0.732 (+/- 0.021)\n",
      "Mean F1: 0.728 (+/- 0.015)\n",
      "----------------------------------------\n"
     ]
    }
   ],
   "source": [
    "print('-'*40)\n",
    "for clf_name, clf in ensamble.items():\n",
    "    auc = cross_val_score(clf, x, y, cv=kfold, scoring='roc_auc')\n",
    "    acc_score = cross_val_score(clf, x, y, cv=kfold)\n",
    "    recall_score = cross_val_score(clf, x, y, cv=kfold, scoring='recall')\n",
    "    f1_score = cross_val_score(clf, x,y,cv=kfold, scoring='f1')\n",
    "    print(\"Results for {} classifier\".format(clf_name))\n",
    "    print('-'*40)\n",
    "    print(\"AUC: %0.2f (+/- %0.2f)\" % ( auc.mean(), auc.std() * 2))\n",
    "    print(\"Mean Accuracy: %0.3f (+/- %0.3f)\" % (np.mean(acc_score), np.std(acc_score)) )\n",
    "    print(\"Mean Recall: %0.3f (+/- %0.3f)\" % (np.mean(recall_score), np.std(recall_score)) )\n",
    "    print(\"Mean F1: %0.3f (+/- %0.3f)\" % (np.mean(f1_score), np.std(f1_score)) )\n",
    "    print('-'*40)"
   ]
  },
  {
   "cell_type": "markdown",
   "metadata": {},
   "source": [
    "# Feature selection"
   ]
  },
  {
   "cell_type": "code",
   "execution_count": 21,
   "metadata": {},
   "outputs": [
    {
     "name": "stdout",
     "output_type": "stream",
     "text": [
      "----------------------------------------\n",
      "Results for Bagging classifier\n",
      "----------------------------------------\n",
      "AUC: 0.63 (+/- 0.03)\n",
      "Mean Accuracy: 0.615 (+/- 0.017)\n",
      "Mean Recall: 0.619 (+/- 0.019)\n",
      "Mean F1: 0.617 (+/- 0.017)\n",
      "----------------------------------------\n",
      "Results for AdaBoost classifier\n",
      "----------------------------------------\n",
      "AUC: 0.63 (+/- 0.03)\n",
      "Mean Accuracy: 0.616 (+/- 0.017)\n",
      "Mean Recall: 0.621 (+/- 0.020)\n",
      "Mean F1: 0.618 (+/- 0.017)\n",
      "----------------------------------------\n",
      "Results for GradientBoosting classifier\n",
      "----------------------------------------\n",
      "AUC: 0.64 (+/- 0.03)\n",
      "Mean Accuracy: 0.616 (+/- 0.017)\n",
      "Mean Recall: 0.621 (+/- 0.020)\n",
      "Mean F1: 0.618 (+/- 0.017)\n",
      "----------------------------------------\n"
     ]
    }
   ],
   "source": [
    "print('-'*40)\n",
    "for clf_name, clf in ensamble.items():\n",
    "    auc = cross_val_score(clf, x_feature, y, cv=kfold, scoring='roc_auc')\n",
    "    acc_score = cross_val_score(clf, x_feature, y, cv=kfold)\n",
    "    recall_score = cross_val_score(clf, x_feature, y, cv=kfold, scoring='recall')\n",
    "    f1_score = cross_val_score(clf, x_feature,y,cv=kfold, scoring='f1')\n",
    "    print(\"Results for {} classifier\".format(clf_name))\n",
    "    print('-'*40)\n",
    "    print(\"AUC: %0.2f (+/- %0.2f)\" % ( auc.mean(), auc.std() * 2))\n",
    "    print(\"Mean Accuracy: %0.3f (+/- %0.3f)\" % (np.mean(acc_score), np.std(acc_score)) )\n",
    "    print(\"Mean Recall: %0.3f (+/- %0.3f)\" % (np.mean(recall_score), np.std(recall_score)) )\n",
    "    print(\"Mean F1: %0.3f (+/- %0.3f)\" % (np.mean(f1_score), np.std(f1_score)) )\n",
    "    print('-'*40)"
   ]
  },
  {
   "cell_type": "code",
   "execution_count": null,
   "metadata": {},
   "outputs": [],
   "source": []
  }
 ],
 "metadata": {
  "kernelspec": {
   "display_name": "Python 3",
   "language": "python",
   "name": "python3"
  },
  "language_info": {
   "codemirror_mode": {
    "name": "ipython",
    "version": 3
   },
   "file_extension": ".py",
   "mimetype": "text/x-python",
   "name": "python",
   "nbconvert_exporter": "python",
   "pygments_lexer": "ipython3",
   "version": "3.8.5"
  }
 },
 "nbformat": 4,
 "nbformat_minor": 4
}
